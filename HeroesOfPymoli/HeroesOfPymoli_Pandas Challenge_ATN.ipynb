{
 "cells": [
  {
   "cell_type": "markdown",
   "metadata": {},
   "source": [
    "### Note\n",
    "* Instructions have been included for each segment. You do not have to follow them exactly, but they are included to help you think through the steps."
   ]
  },
  {
   "cell_type": "code",
   "execution_count": 281,
   "metadata": {},
   "outputs": [
    {
     "output_type": "execute_result",
     "data": {
      "text/plain": [
       "   Purchase ID             SN  Age Gender  Item ID  \\\n",
       "0            0        Lisim78   20   Male      108   \n",
       "1            1    Lisovynya38   40   Male      143   \n",
       "2            2     Ithergue48   24   Male       92   \n",
       "3            3  Chamassasya86   24   Male      100   \n",
       "4            4      Iskosia90   23   Male      131   \n",
       "\n",
       "                                   Item Name  Price  \n",
       "0  Extraction, Quickblade Of Trembling Hands   3.53  \n",
       "1                          Frenzied Scimitar   1.56  \n",
       "2                               Final Critic   4.88  \n",
       "3                                Blindscythe   3.27  \n",
       "4                                       Fury   1.44  "
      ],
      "text/html": "<div>\n<style scoped>\n    .dataframe tbody tr th:only-of-type {\n        vertical-align: middle;\n    }\n\n    .dataframe tbody tr th {\n        vertical-align: top;\n    }\n\n    .dataframe thead th {\n        text-align: right;\n    }\n</style>\n<table border=\"1\" class=\"dataframe\">\n  <thead>\n    <tr style=\"text-align: right;\">\n      <th></th>\n      <th>Purchase ID</th>\n      <th>SN</th>\n      <th>Age</th>\n      <th>Gender</th>\n      <th>Item ID</th>\n      <th>Item Name</th>\n      <th>Price</th>\n    </tr>\n  </thead>\n  <tbody>\n    <tr>\n      <th>0</th>\n      <td>0</td>\n      <td>Lisim78</td>\n      <td>20</td>\n      <td>Male</td>\n      <td>108</td>\n      <td>Extraction, Quickblade Of Trembling Hands</td>\n      <td>3.53</td>\n    </tr>\n    <tr>\n      <th>1</th>\n      <td>1</td>\n      <td>Lisovynya38</td>\n      <td>40</td>\n      <td>Male</td>\n      <td>143</td>\n      <td>Frenzied Scimitar</td>\n      <td>1.56</td>\n    </tr>\n    <tr>\n      <th>2</th>\n      <td>2</td>\n      <td>Ithergue48</td>\n      <td>24</td>\n      <td>Male</td>\n      <td>92</td>\n      <td>Final Critic</td>\n      <td>4.88</td>\n    </tr>\n    <tr>\n      <th>3</th>\n      <td>3</td>\n      <td>Chamassasya86</td>\n      <td>24</td>\n      <td>Male</td>\n      <td>100</td>\n      <td>Blindscythe</td>\n      <td>3.27</td>\n    </tr>\n    <tr>\n      <th>4</th>\n      <td>4</td>\n      <td>Iskosia90</td>\n      <td>23</td>\n      <td>Male</td>\n      <td>131</td>\n      <td>Fury</td>\n      <td>1.44</td>\n    </tr>\n  </tbody>\n</table>\n</div>"
     },
     "metadata": {},
     "execution_count": 281
    }
   ],
   "source": [
    "# Dependencies and Setup\n",
    "import pandas as pd\n",
    "\n",
    "# File to Load (Remember to Change These)\n",
    "file_to_load = \"Resources\\purchase_data.csv\"\n",
    "\n",
    "# Read Purchasing File and store into Pandas data frame\n",
    "data_file_df = pd.read_csv(file_to_load)\n",
    "# data_file_df[\"Price\"]=data_file_df[\"Price\"].map(\"${:,.2f}\".format)\n",
    "data_file_df.head()\n"
   ]
  },
  {
   "cell_type": "markdown",
   "metadata": {},
   "source": [
    "## Player Count"
   ]
  },
  {
   "cell_type": "markdown",
   "metadata": {},
   "source": [
    "* Display the total number of players\n"
   ]
  },
  {
   "cell_type": "code",
   "execution_count": 282,
   "metadata": {},
   "outputs": [
    {
     "output_type": "execute_result",
     "data": {
      "text/plain": [
       "576"
      ]
     },
     "metadata": {},
     "execution_count": 282
    }
   ],
   "source": [
    "Player_info_df=data_file_df.loc[:,['SN','Age','Gender']]\n",
    "#Remove duplicates\n",
    "Player_info_df=Player_info_df.drop_duplicates()\n",
    "#Number of Pla\n",
    "Player_count=Player_info_df['SN'].count()\n",
    "Unique_Player_count=Player_info_df['SN'].nunique()\n",
    "Unique_Player_count\n"
   ]
  },
  {
   "cell_type": "markdown",
   "metadata": {},
   "source": [
    "## Purchasing Analysis (Total)"
   ]
  },
  {
   "cell_type": "markdown",
   "metadata": {},
   "source": [
    "* Run basic calculations to obtain number of unique items, average price, etc.\n",
    "\n",
    "\n",
    "* Create a summary data frame to hold the results\n",
    "\n",
    "\n",
    "* Optional: give the displayed data cleaner formatting\n",
    "\n",
    "\n",
    "* Display the summary data frame\n"
   ]
  },
  {
   "cell_type": "code",
   "execution_count": 283,
   "metadata": {
    "scrolled": true
   },
   "outputs": [
    {
     "output_type": "execute_result",
     "data": {
      "text/plain": [
       "   Item ID  Avg Purchase Price  TTL Purchase Value  TTL # of Purchases\n",
       "0      179            3.050987             2379.77                 780"
      ],
      "text/html": "<div>\n<style scoped>\n    .dataframe tbody tr th:only-of-type {\n        vertical-align: middle;\n    }\n\n    .dataframe tbody tr th {\n        vertical-align: top;\n    }\n\n    .dataframe thead th {\n        text-align: right;\n    }\n</style>\n<table border=\"1\" class=\"dataframe\">\n  <thead>\n    <tr style=\"text-align: right;\">\n      <th></th>\n      <th>Item ID</th>\n      <th>Avg Purchase Price</th>\n      <th>TTL Purchase Value</th>\n      <th>TTL # of Purchases</th>\n    </tr>\n  </thead>\n  <tbody>\n    <tr>\n      <th>0</th>\n      <td>179</td>\n      <td>3.050987</td>\n      <td>2379.77</td>\n      <td>780</td>\n    </tr>\n  </tbody>\n</table>\n</div>"
     },
     "metadata": {},
     "execution_count": 283
    }
   ],
   "source": [
    "# * Number of Unique Items\n",
    "unique_item=data_file_df['Item ID'].nunique()\n",
    "# * Average Purchase Price\n",
    "average_purchase_price=data_file_df[\"Price\"].mean()\n",
    "# * Total Number of Purchases\n",
    "unique_purchase_ID=data_file_df['Purchase ID'].nunique()\n",
    "# * Total Revenuedf.describe()\n",
    "total_revenue=data_file_df['Price'].sum()\n",
    "\n",
    "Purchasing_Analysis_df=pd.DataFrame({\"Item ID\": [unique_item], \"Avg Purchase Price\":  [average_purchase_price], \"TTL Purchase Value\": [total_revenue], \"TTL # of Purchases\": [unique_purchase_ID]})\n",
    "\n",
    "Purchasing_Analysis_df\n",
    "\n",
    "\n"
   ]
  },
  {
   "cell_type": "markdown",
   "metadata": {},
   "source": [
    "* Percentage and Count of Male Players\n",
    "\n",
    "\n",
    "* Percentage and Count of Female Players\n",
    "\n",
    "\n",
    "* Percentage and Count of Other / Non-Disclosed\n",
    "\n",
    "\n"
   ]
  },
  {
   "cell_type": "code",
   "execution_count": 284,
   "metadata": {},
   "outputs": [],
   "source": [
    "# Percentage and Count of Male Players\n",
    "# Percentage and Count of Female Players\n",
    "# Percentage and Count of Other / Non-Disclosed\n",
    "\n",
    "## Gender_count=Player_info_df['Gender'].value_counts()\n",
    "## Gender_count_percent=Gender_count/Player_count *100\n",
    "## Gender_countdf=pd.DataFrame({\"total count\": Gender_count, \"Percentage_of_players\": Gender_count_percent})\n",
    "## Gender_countdf=Gender_countdf.round(2)\n",
    "# Gender_countdf.head()\n",
    "\n",
    "## male_count=df.loc[df[\"Gender\"]==\"Male\", :].value_counts()\n",
    "##percent_male data_file_df=data_file_df((Male_count/Gender_count)*100)\n"
   ]
  },
  {
   "cell_type": "markdown",
   "metadata": {},
   "source": [
    "* Run basic calculations to obtain purchase count, avg. purchase price, avg. purchase total per person etc. by gender\n",
    "\n",
    "\n",
    "\n",
    "\n",
    "* Create a summary data frame to hold the results\n",
    "\n",
    "\n",
    "* Optional: give the displayed data cleaner formatting\n",
    "\n",
    "\n",
    "* Display the summary data frame"
   ]
  },
  {
   "cell_type": "code",
   "execution_count": 285,
   "metadata": {},
   "outputs": [
    {
     "output_type": "execute_result",
     "data": {
      "text/plain": [
       "                       Total Count Average Purchase Price Total Purchase Price\n",
       "Gender                                                                        \n",
       "Female                         113                  $3.20              $361.94\n",
       "Male                           652                  $3.02            $1,967.64\n",
       "Other / Non-Disclosed           15                  $3.35               $50.19"
      ],
      "text/html": "<div>\n<style scoped>\n    .dataframe tbody tr th:only-of-type {\n        vertical-align: middle;\n    }\n\n    .dataframe tbody tr th {\n        vertical-align: top;\n    }\n\n    .dataframe thead th {\n        text-align: right;\n    }\n</style>\n<table border=\"1\" class=\"dataframe\">\n  <thead>\n    <tr style=\"text-align: right;\">\n      <th></th>\n      <th>Total Count</th>\n      <th>Average Purchase Price</th>\n      <th>Total Purchase Price</th>\n    </tr>\n    <tr>\n      <th>Gender</th>\n      <th></th>\n      <th></th>\n      <th></th>\n    </tr>\n  </thead>\n  <tbody>\n    <tr>\n      <th>Female</th>\n      <td>113</td>\n      <td>$3.20</td>\n      <td>$361.94</td>\n    </tr>\n    <tr>\n      <th>Male</th>\n      <td>652</td>\n      <td>$3.02</td>\n      <td>$1,967.64</td>\n    </tr>\n    <tr>\n      <th>Other / Non-Disclosed</th>\n      <td>15</td>\n      <td>$3.35</td>\n      <td>$50.19</td>\n    </tr>\n  </tbody>\n</table>\n</div>"
     },
     "metadata": {},
     "execution_count": 285
    }
   ],
   "source": [
    "# The below each broken by gender:\n",
    "Gender_count=data_file_df.groupby(['Gender']).count()['Price'].rename(\"Purchase Count\")\n",
    "Gender_count.head()\n",
    "\n",
    "average_purchase_per_gender=data_file_df.groupby([\"Gender\"]).mean()[\"Price\"].rename(\"Average Purchase Price\")\n",
    "\n",
    "Purchase_count=data_file_df['Item ID'].unique()\n",
    "Purchase_count_df=data_file_df.loc[:,['Gender','Purchase ID','Price']]\n",
    "Purchase_count_df.head()\n",
    "\n",
    "# # Total Purchase Value\n",
    "Purchase_value=data_file_df.groupby(['Gender']).sum()[\"Price\"].rename(\"Total Purchase Price\")\n",
    "# print(Purchase_value)\n",
    "\n",
    "# * Average Purchase Price\n",
    "Purchase_price=data_file_df.groupby(['Gender']).mean()\n",
    "# Purchase_price.head()\n",
    "\n",
    "# Purchase Count\n",
    "Purchase_count=Purchase_count_df['Purchase ID'].value_counts()\n",
    "\n",
    "# # Average Purchase Total per Person by \n",
    "Purchase_count_df=pd.DataFrame({\"Total Count\": Gender_count, \"Average Purchase Price\": average_purchase_per_gender, \"Total Purchase Price\": Purchase_value})\n",
    "# Purchase_count_df.head()\n",
    "\n",
    "#Formatting\n",
    "summary_df=pd.DataFrame({\"Total Count\": Gender_count, \"Average Purchase Price\":  average_purchase_per_gender, \"Total Purchase Price\": Purchase_value})\n",
    "summary_df[\"Average Purchase Price\"]=summary_df[\"Average Purchase Price\"].map(\"${:,.2f}\".format)\n",
    "summary_df[\"Total Purchase Price\"]=summary_df[\"Total Purchase Price\"].map(\"${:,.2f}\".format)\n",
    "summary_df.head()\n",
    "\n"
   ]
  },
  {
   "source": [
    "## Age Demographics\n",
    "# data_file_df=pd.read_csv\n",
    "Player_info_df=data_file_df.loc[:,['Price','Age','Gender']]\n",
    "##Player_info_df=Player_info_df.drop_duplicates()\n",
    "\n",
    "# The below each broken into bins of 4 years (i.e. &lt;10, 10-14, 15-19, etc.)\n",
    "bins=[0,11.9,16.9,21.9,26.9,31.9,36.9,41.9,99]\n",
    "group_names=[\"<11\",\"12-16\",\"17-21\",\"22-26\",\"27-31\",\"32-36\",\"37-41\",\"42+\"]\n",
    "\n",
    "# Player_info_df=df.groupby(\"Age_range\")\n",
    "Player_info_df[\"age_range\"]=pd.cut(Player_info_df[\"Age\"],bins,labels=group_names)\n",
    "Player_info_df\n",
    "\n",
    "#   * Purchase Count\n",
    "Player_age_count=Player_info_df['age_range'].value_counts()\n",
    "\n",
    "#   * Average Purchase Price\n",
    "# Purchase_price=data_file_df.groupby(['Age']).mean()\n",
    "# Purchase_price\n",
    "\n",
    "#   * Total Purchase Value\n",
    "Purchase_value=Player_info_df.groupby(['age_range']).sum()[\"Price\"].rename(\"Total Purchase Value\")\n",
    "# print(Purchase_value)\n",
    "\n",
    "#   * Average Purchase Total per Person by Age Group\n",
    "Average_Purchase_value=Player_info_df.groupby(['age_range']).mean()[\"Price\"].rename(\"Average Purchase Total pp\")\n",
    "Age_Purchase_Count=Player_info_df.groupby(['age_range']).count()[\"Price\"].rename(\"Count pp\")\n",
    "Avg_Purchase_PP=Purchase_value/Player_age_count\n",
    "\n",
    "# Average # ppl per age group\n",
    "Number_age_group=(Player_age_count/Unique_Player_count)*100\n",
    "\n",
    "##Percent_players_age_group=Player_info_df.groupby([age_range])/([Gender_count])\n",
    "\n",
    "#Formatting\n",
    "age_summary_df=pd.DataFrame({\"Purchase Count\": Age_Purchase_Count, \"Avg Purchase Price\":  Average_Purchase_value, \"Avg Total pp\": Avg_Purchase_PP, \"TTL Purchase Value\": Purchase_value, \"Percent Age Group\": Number_age_group})\n",
    "age_summary_df[\"Avg Purchase Price\"]=age_summary_df[\"Avg Purchase Price\"].map(\"${:,.2f}\".format)\n",
    "age_summary_df[\"TTL Purchase Value\"]=age_summary_df[\"TTL Purchase Value\"].map(\"${:,.2f}\".format)\n",
    "age_summary_df[\"Avg Total pp\"]=age_summary_df[\"Avg Total pp\"].map(\"${:,.2f}\".format)\n",
    "age_summary_df[\"Percent Age Group\"]=age_summary_df[\"Percent Age Group\"].map(\"{:,.1f}%\".format)\n",
    "age_summary_df\n",
    "\n",
    "\n"
   ],
   "cell_type": "code",
   "metadata": {},
   "execution_count": 286,
   "outputs": [
    {
     "output_type": "execute_result",
     "data": {
      "text/plain": [
       "       Purchase Count Avg Purchase Price Avg Total pp TTL Purchase Value  \\\n",
       "<11                39              $3.28        $3.28            $127.75   \n",
       "12-16              77              $2.97        $2.97            $228.37   \n",
       "17-21             232              $3.07        $3.07            $711.74   \n",
       "22-26             277              $3.04        $3.04            $841.09   \n",
       "27-31              70              $2.93        $2.93            $205.28   \n",
       "32-36              50              $2.89        $2.89            $144.32   \n",
       "37-41              30              $3.54        $3.54            $106.23   \n",
       "42+                 5              $3.00        $3.00             $14.99   \n",
       "\n",
       "      Percent Age Group  \n",
       "<11                6.8%  \n",
       "12-16             13.4%  \n",
       "17-21             40.3%  \n",
       "22-26             48.1%  \n",
       "27-31             12.2%  \n",
       "32-36              8.7%  \n",
       "37-41              5.2%  \n",
       "42+                0.9%  "
      ],
      "text/html": "<div>\n<style scoped>\n    .dataframe tbody tr th:only-of-type {\n        vertical-align: middle;\n    }\n\n    .dataframe tbody tr th {\n        vertical-align: top;\n    }\n\n    .dataframe thead th {\n        text-align: right;\n    }\n</style>\n<table border=\"1\" class=\"dataframe\">\n  <thead>\n    <tr style=\"text-align: right;\">\n      <th></th>\n      <th>Purchase Count</th>\n      <th>Avg Purchase Price</th>\n      <th>Avg Total pp</th>\n      <th>TTL Purchase Value</th>\n      <th>Percent Age Group</th>\n    </tr>\n  </thead>\n  <tbody>\n    <tr>\n      <th>&lt;11</th>\n      <td>39</td>\n      <td>$3.28</td>\n      <td>$3.28</td>\n      <td>$127.75</td>\n      <td>6.8%</td>\n    </tr>\n    <tr>\n      <th>12-16</th>\n      <td>77</td>\n      <td>$2.97</td>\n      <td>$2.97</td>\n      <td>$228.37</td>\n      <td>13.4%</td>\n    </tr>\n    <tr>\n      <th>17-21</th>\n      <td>232</td>\n      <td>$3.07</td>\n      <td>$3.07</td>\n      <td>$711.74</td>\n      <td>40.3%</td>\n    </tr>\n    <tr>\n      <th>22-26</th>\n      <td>277</td>\n      <td>$3.04</td>\n      <td>$3.04</td>\n      <td>$841.09</td>\n      <td>48.1%</td>\n    </tr>\n    <tr>\n      <th>27-31</th>\n      <td>70</td>\n      <td>$2.93</td>\n      <td>$2.93</td>\n      <td>$205.28</td>\n      <td>12.2%</td>\n    </tr>\n    <tr>\n      <th>32-36</th>\n      <td>50</td>\n      <td>$2.89</td>\n      <td>$2.89</td>\n      <td>$144.32</td>\n      <td>8.7%</td>\n    </tr>\n    <tr>\n      <th>37-41</th>\n      <td>30</td>\n      <td>$3.54</td>\n      <td>$3.54</td>\n      <td>$106.23</td>\n      <td>5.2%</td>\n    </tr>\n    <tr>\n      <th>42+</th>\n      <td>5</td>\n      <td>$3.00</td>\n      <td>$3.00</td>\n      <td>$14.99</td>\n      <td>0.9%</td>\n    </tr>\n  </tbody>\n</table>\n</div>"
     },
     "metadata": {},
     "execution_count": 286
    }
   ]
  },
  {
   "cell_type": "markdown",
   "metadata": {},
   "source": [
    "* Establish bins for ages\n",
    "\n",
    "\n",
    "* Categorize the existing players using the age bins. Hint: use pd.cut()\n",
    "\n",
    "\n",
    "* Calculate the numbers and percentages by age group\n",
    "\n",
    "\n",
    "* Create a summary data frame to hold the results\n",
    "\n",
    "\n",
    "* Optional: round the percentage column to two decimal points\n",
    "\n",
    "\n",
    "* Display Age Demographics Table\n"
   ]
  },
  {
   "cell_type": "markdown",
   "metadata": {},
   "source": [
    "## Purchasing Analysis (Age)"
   ]
  },
  {
   "cell_type": "markdown",
   "metadata": {},
   "source": [
    "* Bin the purchase_data data frame by age\n",
    "\n",
    "\n",
    "* Run basic calculations to obtain purchase count, avg. purchase price, avg. purchase total per person etc. in the table below\n",
    "\n",
    "\n",
    "* Create a summary data frame to hold the results\n",
    "\n",
    "\n",
    "* Optional: give the displayed data cleaner formatting\n",
    "\n",
    "\n",
    "* Display the summary data frame"
   ]
  },
  {
   "cell_type": "markdown",
   "metadata": {},
   "source": [
    "## Top Spenders"
   ]
  },
  {
   "cell_type": "markdown",
   "metadata": {},
   "source": [
    "* Run basic calculations to obtain the results in the table below\n",
    "\n",
    "\n",
    "* Create a summary data frame to hold the results\n",
    "\n",
    "\n",
    "* Sort the total purchase value column in descending order\n",
    "\n",
    "\n",
    "* Optional: give the displayed data cleaner formatting\n",
    "\n",
    "\n",
    "* Display a preview of the summary data frame\n",
    "\n"
   ]
  },
  {
   "cell_type": "code",
   "execution_count": 287,
   "metadata": {},
   "outputs": [
    {
     "output_type": "execute_result",
     "data": {
      "text/plain": [
       "            Avg Purchase Price Spenders Purchase Count TTL Purchase Value\n",
       "SN                                                                       \n",
       "Lisosia93                $3.79                   $5.00             $18.96\n",
       "Idastidru52              $3.86                   $4.00             $15.45\n",
       "Chamjask73               $4.61                   $3.00             $13.83\n",
       "Iral74                   $3.40                   $4.00             $13.62\n",
       "Iskadarya95              $4.37                   $3.00             $13.10"
      ],
      "text/html": "<div>\n<style scoped>\n    .dataframe tbody tr th:only-of-type {\n        vertical-align: middle;\n    }\n\n    .dataframe tbody tr th {\n        vertical-align: top;\n    }\n\n    .dataframe thead th {\n        text-align: right;\n    }\n</style>\n<table border=\"1\" class=\"dataframe\">\n  <thead>\n    <tr style=\"text-align: right;\">\n      <th></th>\n      <th>Avg Purchase Price</th>\n      <th>Spenders Purchase Count</th>\n      <th>TTL Purchase Value</th>\n    </tr>\n    <tr>\n      <th>SN</th>\n      <th></th>\n      <th></th>\n      <th></th>\n    </tr>\n  </thead>\n  <tbody>\n    <tr>\n      <th>Lisosia93</th>\n      <td>$3.79</td>\n      <td>$5.00</td>\n      <td>$18.96</td>\n    </tr>\n    <tr>\n      <th>Idastidru52</th>\n      <td>$3.86</td>\n      <td>$4.00</td>\n      <td>$15.45</td>\n    </tr>\n    <tr>\n      <th>Chamjask73</th>\n      <td>$4.61</td>\n      <td>$3.00</td>\n      <td>$13.83</td>\n    </tr>\n    <tr>\n      <th>Iral74</th>\n      <td>$3.40</td>\n      <td>$4.00</td>\n      <td>$13.62</td>\n    </tr>\n    <tr>\n      <th>Iskadarya95</th>\n      <td>$4.37</td>\n      <td>$3.00</td>\n      <td>$13.10</td>\n    </tr>\n  </tbody>\n</table>\n</div>"
     },
     "metadata": {},
     "execution_count": 287
    }
   ],
   "source": [
    "# Identify the the top 5 spenders in the game by total purchase value, then list (in a table):\n",
    "data_file_df\n",
    "#data_file_df.drop_duplicates()\n",
    "\n",
    "# SN\n",
    "Spenders_df=data_file_df.loc[:,['Price','SN']]\n",
    "\n",
    "# Purchase Count\n",
    "Spenders_Count=Spenders_df.groupby([\"SN\"]).count()[\"Price\"]\n",
    "\n",
    "# Average Purchase Price\n",
    "Spenders_Average=Spenders_df.groupby([\"SN\"]).mean()[\"Price\"]\n",
    "\n",
    "# Total Purchase Value\n",
    "Spenders_Total=Spenders_df.groupby([\"SN\"]).sum()[\"Price\"]\n",
    "Spenders_Count\n",
    "\n",
    "#Formatting:  \n",
    "Top_5_df = pd.DataFrame({\"Avg Purchase Price\": Spenders_Average, \"Spenders Purchase Count\": Spenders_Count, \"TTL Purchase Value\": Spenders_Total})\n",
    "Top_5_df=Top_5_df.sort_values(by='TTL Purchase Value',ascending=False)\n",
    "Top_5_df[\"Avg Purchase Price\"]=Top_5_df[\"Avg Purchase Price\"].map(\"${:,.2f}\".format)\n",
    "Top_5_df[\"TTL Purchase Value\"]=Top_5_df[\"TTL Purchase Value\"].map(\"${:,.2f}\".format)\n",
    "Top_5_df[\"Spenders Purchase Count\"]=Top_5_df[\"Spenders Purchase Count\"].map(\"${:,.2f}\".format)\n",
    "\n",
    "Top_5_df.head(5)\n"
   ]
  },
  {
   "cell_type": "markdown",
   "metadata": {},
   "source": [
    "## Most Popular Items"
   ]
  },
  {
   "cell_type": "markdown",
   "metadata": {},
   "source": [
    "* Retrieve the Item ID, Item Name, and Item Price columns\n",
    "\n",
    "\n",
    "* Group by Item ID and Item Name. Perform calculations to obtain purchase count, average item price, and total purchase value\n",
    "\n",
    "\n",
    "* Create a summary data frame to hold the results\n",
    "\n",
    "\n",
    "* Sort the purchase count column in descending order\n",
    "\n",
    "\n",
    "* Optional: give the displayed data cleaner formatting\n",
    "\n",
    "\n",
    "* Display a preview of the summary data frame\n",
    "\n"
   ]
  },
  {
   "cell_type": "code",
   "execution_count": 288,
   "metadata": {},
   "outputs": [
    {
     "output_type": "execute_result",
     "data": {
      "text/plain": [
       "                                                     Purchase Count  \\\n",
       "Item ID Item Name                                                     \n",
       "92      Final Critic                                         $13.00   \n",
       "178     Oathbreaker, Last Hope of the Breaking Storm         $12.00   \n",
       "145     Fiery Glass Crusader                                  $9.00   \n",
       "132     Persuasion                                            $9.00   \n",
       "108     Extraction, Quickblade Of Trembling Hands             $9.00   \n",
       "...                                                             ...   \n",
       "42      The Decapitator                                       $1.00   \n",
       "51      Endbringer                                            $1.00   \n",
       "118     Ghost Reaver, Longsword of Magic                      $1.00   \n",
       "104     Gladiator's Glaive                                    $1.00   \n",
       "91      Celeste                                               $1.00   \n",
       "\n",
       "                                                     Avg Purchase Price  \\\n",
       "Item ID Item Name                                                         \n",
       "92      Final Critic                                              $4.61   \n",
       "178     Oathbreaker, Last Hope of the Breaking Storm              $4.23   \n",
       "145     Fiery Glass Crusader                                      $4.58   \n",
       "132     Persuasion                                                $3.22   \n",
       "108     Extraction, Quickblade Of Trembling Hands                 $3.53   \n",
       "...                                                                 ...   \n",
       "42      The Decapitator                                           $1.75   \n",
       "51      Endbringer                                                $4.66   \n",
       "118     Ghost Reaver, Longsword of Magic                          $2.17   \n",
       "104     Gladiator's Glaive                                        $1.93   \n",
       "91      Celeste                                                   $4.17   \n",
       "\n",
       "                                                     TTL Purchase Value  \n",
       "Item ID Item Name                                                        \n",
       "92      Final Critic                                             $59.99  \n",
       "178     Oathbreaker, Last Hope of the Breaking Storm             $50.76  \n",
       "145     Fiery Glass Crusader                                     $41.22  \n",
       "132     Persuasion                                               $28.99  \n",
       "108     Extraction, Quickblade Of Trembling Hands                $31.77  \n",
       "...                                                                 ...  \n",
       "42      The Decapitator                                           $1.75  \n",
       "51      Endbringer                                                $4.66  \n",
       "118     Ghost Reaver, Longsword of Magic                          $2.17  \n",
       "104     Gladiator's Glaive                                        $1.93  \n",
       "91      Celeste                                                   $4.17  \n",
       "\n",
       "[179 rows x 3 columns]"
      ],
      "text/html": "<div>\n<style scoped>\n    .dataframe tbody tr th:only-of-type {\n        vertical-align: middle;\n    }\n\n    .dataframe tbody tr th {\n        vertical-align: top;\n    }\n\n    .dataframe thead th {\n        text-align: right;\n    }\n</style>\n<table border=\"1\" class=\"dataframe\">\n  <thead>\n    <tr style=\"text-align: right;\">\n      <th></th>\n      <th></th>\n      <th>Purchase Count</th>\n      <th>Avg Purchase Price</th>\n      <th>TTL Purchase Value</th>\n    </tr>\n    <tr>\n      <th>Item ID</th>\n      <th>Item Name</th>\n      <th></th>\n      <th></th>\n      <th></th>\n    </tr>\n  </thead>\n  <tbody>\n    <tr>\n      <th>92</th>\n      <th>Final Critic</th>\n      <td>$13.00</td>\n      <td>$4.61</td>\n      <td>$59.99</td>\n    </tr>\n    <tr>\n      <th>178</th>\n      <th>Oathbreaker, Last Hope of the Breaking Storm</th>\n      <td>$12.00</td>\n      <td>$4.23</td>\n      <td>$50.76</td>\n    </tr>\n    <tr>\n      <th>145</th>\n      <th>Fiery Glass Crusader</th>\n      <td>$9.00</td>\n      <td>$4.58</td>\n      <td>$41.22</td>\n    </tr>\n    <tr>\n      <th>132</th>\n      <th>Persuasion</th>\n      <td>$9.00</td>\n      <td>$3.22</td>\n      <td>$28.99</td>\n    </tr>\n    <tr>\n      <th>108</th>\n      <th>Extraction, Quickblade Of Trembling Hands</th>\n      <td>$9.00</td>\n      <td>$3.53</td>\n      <td>$31.77</td>\n    </tr>\n    <tr>\n      <th>...</th>\n      <th>...</th>\n      <td>...</td>\n      <td>...</td>\n      <td>...</td>\n    </tr>\n    <tr>\n      <th>42</th>\n      <th>The Decapitator</th>\n      <td>$1.00</td>\n      <td>$1.75</td>\n      <td>$1.75</td>\n    </tr>\n    <tr>\n      <th>51</th>\n      <th>Endbringer</th>\n      <td>$1.00</td>\n      <td>$4.66</td>\n      <td>$4.66</td>\n    </tr>\n    <tr>\n      <th>118</th>\n      <th>Ghost Reaver, Longsword of Magic</th>\n      <td>$1.00</td>\n      <td>$2.17</td>\n      <td>$2.17</td>\n    </tr>\n    <tr>\n      <th>104</th>\n      <th>Gladiator's Glaive</th>\n      <td>$1.00</td>\n      <td>$1.93</td>\n      <td>$1.93</td>\n    </tr>\n    <tr>\n      <th>91</th>\n      <th>Celeste</th>\n      <td>$1.00</td>\n      <td>$4.17</td>\n      <td>$4.17</td>\n    </tr>\n  </tbody>\n</table>\n<p>179 rows × 3 columns</p>\n</div>"
     },
     "metadata": {},
     "execution_count": 288
    }
   ],
   "source": [
    "# Identify the 5 most popular items by purchase count, then list (in a table):\n",
    "data_file_df\n",
    "##data_file_df.drop_duplicates()\n",
    "\n",
    "# SN\n",
    "Popular_items_df=data_file_df.loc[:,['Item ID', 'Item Name', 'Price']]\n",
    "\n",
    "# Purchase Count\n",
    "Popular_count=Popular_items_df.groupby(['Item ID', 'Item Name']).count()[\"Price\"]\n",
    "\n",
    "# Average Purchase Price\n",
    "Popular_Average=Popular_items_df.groupby(['Item ID', 'Item Name']).mean()[\"Price\"]\n",
    "Popular_Average\n",
    "\n",
    "# Total Purchase Value\n",
    "Popular_Total=Popular_items_df.groupby(['Item ID', 'Item Name']).sum()[\"Price\"]\n",
    "\n",
    "# Item Name\n",
    "Popular_Item_Name=Popular_items_df.groupby(['Item ID', 'Item Name']).head()[\"Price\"]\n",
    "\n",
    "#Formatting:  \n",
    "Unsorted_Most_popular_df=pd.DataFrame({\"Purchase Count\": Popular_count, \"Avg Purchase Price\":  Popular_Average, \"TTL Purchase Value\": Popular_Total})\n",
    "Most_popular_df=Unsorted_Most_popular_df.sort_values(by='Purchase Count',ascending=False)\n",
    "\n",
    "# Item Price\n",
    "Most_popular_df[\"Avg Purchase Price\"]=Most_popular_df[\"Avg Purchase Price\"].map(\"${:,.2f}\".format)\n",
    "\n",
    "# Total Purchase Value\n",
    "Most_popular_df[\"TTL Purchase Value\"]=Most_popular_df[\"TTL Purchase Value\"].map(\"${:,.2f}\".format)\n",
    "Most_popular_df[\"Purchase Count\"]=Most_popular_df[\"Purchase Count\"].map(\"${:,.2f}\".format)\n",
    "\n",
    "Most_popular_df\n",
    "\n",
    "\n"
   ]
  },
  {
   "cell_type": "markdown",
   "metadata": {},
   "source": [
    "## Most Profitable Items"
   ]
  },
  {
   "cell_type": "markdown",
   "metadata": {},
   "source": [
    "* Sort the above table by total purchase value in descending order\n",
    "\n",
    "\n",
    "* Optional: give the displayed data cleaner formatting\n",
    "\n",
    "\n",
    "* Display a preview of the data frame\n",
    "\n"
   ]
  },
  {
   "cell_type": "code",
   "execution_count": 289,
   "metadata": {
    "scrolled": true
   },
   "outputs": [
    {
     "output_type": "execute_result",
     "data": {
      "text/plain": [
       "                                                     Purchase Count  \\\n",
       "Item ID Item Name                                                     \n",
       "92      Final Critic                                         $13.00   \n",
       "178     Oathbreaker, Last Hope of the Breaking Storm         $12.00   \n",
       "82      Nirvana                                               $9.00   \n",
       "145     Fiery Glass Crusader                                  $9.00   \n",
       "103     Singed Scalpel                                        $8.00   \n",
       "...                                                             ...   \n",
       "28      Flux, Destroyer of Due Diligence                      $2.00   \n",
       "125     Whistling Mithril Warblade                            $2.00   \n",
       "126     Exiled Mithril Longsword                              $1.00   \n",
       "104     Gladiator's Glaive                                    $1.00   \n",
       "42      The Decapitator                                       $1.00   \n",
       "\n",
       "                                                     Avg Purchase Price  \\\n",
       "Item ID Item Name                                                         \n",
       "92      Final Critic                                              $4.61   \n",
       "178     Oathbreaker, Last Hope of the Breaking Storm              $4.23   \n",
       "82      Nirvana                                                   $4.90   \n",
       "145     Fiery Glass Crusader                                      $4.58   \n",
       "103     Singed Scalpel                                            $4.35   \n",
       "...                                                                 ...   \n",
       "28      Flux, Destroyer of Due Diligence                          $1.06   \n",
       "125     Whistling Mithril Warblade                                $1.00   \n",
       "126     Exiled Mithril Longsword                                  $2.00   \n",
       "104     Gladiator's Glaive                                        $1.93   \n",
       "42      The Decapitator                                           $1.75   \n",
       "\n",
       "                                                     TTL Purchase Value  \n",
       "Item ID Item Name                                                        \n",
       "92      Final Critic                                             $59.99  \n",
       "178     Oathbreaker, Last Hope of the Breaking Storm             $50.76  \n",
       "82      Nirvana                                                  $44.10  \n",
       "145     Fiery Glass Crusader                                     $41.22  \n",
       "103     Singed Scalpel                                           $34.80  \n",
       "...                                                                 ...  \n",
       "28      Flux, Destroyer of Due Diligence                          $2.12  \n",
       "125     Whistling Mithril Warblade                                $2.00  \n",
       "126     Exiled Mithril Longsword                                  $2.00  \n",
       "104     Gladiator's Glaive                                        $1.93  \n",
       "42      The Decapitator                                           $1.75  \n",
       "\n",
       "[179 rows x 3 columns]"
      ],
      "text/html": "<div>\n<style scoped>\n    .dataframe tbody tr th:only-of-type {\n        vertical-align: middle;\n    }\n\n    .dataframe tbody tr th {\n        vertical-align: top;\n    }\n\n    .dataframe thead th {\n        text-align: right;\n    }\n</style>\n<table border=\"1\" class=\"dataframe\">\n  <thead>\n    <tr style=\"text-align: right;\">\n      <th></th>\n      <th></th>\n      <th>Purchase Count</th>\n      <th>Avg Purchase Price</th>\n      <th>TTL Purchase Value</th>\n    </tr>\n    <tr>\n      <th>Item ID</th>\n      <th>Item Name</th>\n      <th></th>\n      <th></th>\n      <th></th>\n    </tr>\n  </thead>\n  <tbody>\n    <tr>\n      <th>92</th>\n      <th>Final Critic</th>\n      <td>$13.00</td>\n      <td>$4.61</td>\n      <td>$59.99</td>\n    </tr>\n    <tr>\n      <th>178</th>\n      <th>Oathbreaker, Last Hope of the Breaking Storm</th>\n      <td>$12.00</td>\n      <td>$4.23</td>\n      <td>$50.76</td>\n    </tr>\n    <tr>\n      <th>82</th>\n      <th>Nirvana</th>\n      <td>$9.00</td>\n      <td>$4.90</td>\n      <td>$44.10</td>\n    </tr>\n    <tr>\n      <th>145</th>\n      <th>Fiery Glass Crusader</th>\n      <td>$9.00</td>\n      <td>$4.58</td>\n      <td>$41.22</td>\n    </tr>\n    <tr>\n      <th>103</th>\n      <th>Singed Scalpel</th>\n      <td>$8.00</td>\n      <td>$4.35</td>\n      <td>$34.80</td>\n    </tr>\n    <tr>\n      <th>...</th>\n      <th>...</th>\n      <td>...</td>\n      <td>...</td>\n      <td>...</td>\n    </tr>\n    <tr>\n      <th>28</th>\n      <th>Flux, Destroyer of Due Diligence</th>\n      <td>$2.00</td>\n      <td>$1.06</td>\n      <td>$2.12</td>\n    </tr>\n    <tr>\n      <th>125</th>\n      <th>Whistling Mithril Warblade</th>\n      <td>$2.00</td>\n      <td>$1.00</td>\n      <td>$2.00</td>\n    </tr>\n    <tr>\n      <th>126</th>\n      <th>Exiled Mithril Longsword</th>\n      <td>$1.00</td>\n      <td>$2.00</td>\n      <td>$2.00</td>\n    </tr>\n    <tr>\n      <th>104</th>\n      <th>Gladiator's Glaive</th>\n      <td>$1.00</td>\n      <td>$1.93</td>\n      <td>$1.93</td>\n    </tr>\n    <tr>\n      <th>42</th>\n      <th>The Decapitator</th>\n      <td>$1.00</td>\n      <td>$1.75</td>\n      <td>$1.75</td>\n    </tr>\n  </tbody>\n</table>\n<p>179 rows × 3 columns</p>\n</div>"
     },
     "metadata": {},
     "execution_count": 289
    }
   ],
   "source": [
    "\n",
    "Most_profitable_df=Unsorted_Most_popular_df.sort_values(by='TTL Purchase Value',ascending=False)\n",
    "\n",
    "Most_profitable_df[\"Avg Purchase Price\"]=Most_profitable_df[\"Avg Purchase Price\"].map(\"${:,.2f}\".format)\n",
    "Most_profitable_df[\"TTL Purchase Value\"]=Most_profitable_df[\"TTL Purchase Value\"].map(\"${:,.2f}\".format)\n",
    "\n",
    "Most_profitable_df[\"Purchase Count\"]=Most_profitable_df[\"Purchase Count\"].map(\"${:,.2f}\".format)\n",
    "\n",
    "Most_profitable_df\n",
    "\n"
   ]
  },
  {
   "cell_type": "code",
   "execution_count": null,
   "metadata": {},
   "outputs": [],
   "source": []
  }
 ],
 "metadata": {
  "anaconda-cloud": {},
  "kernel_info": {
   "name": "python3"
  },
  "kernelspec": {
   "name": "python385jvsc74a57bd0c931ba401747e1100110d99c7b2e1195adf3961a7e00160e720e39c4d164b397",
   "display_name": "Python 3.8.5 64-bit (conda)"
  },
  "language_info": {
   "codemirror_mode": {
    "name": "ipython",
    "version": 3
   },
   "file_extension": ".py",
   "mimetype": "text/x-python",
   "name": "python",
   "nbconvert_exporter": "python",
   "pygments_lexer": "ipython3",
   "version": "3.8.5-final"
  },
  "latex_envs": {
   "LaTeX_envs_menu_present": true,
   "autoclose": false,
   "autocomplete": true,
   "bibliofile": "biblio.bib",
   "cite_by": "apalike",
   "current_citInitial": 1,
   "eqLabelWithNumbers": true,
   "eqNumInitial": 1,
   "hotkeys": {
    "equation": "Ctrl-E",
    "itemize": "Ctrl-I"
   },
   "labels_anchors": false,
   "latex_user_defs": false,
   "report_style_numbering": false,
   "user_envs_cfg": false
  },
  "nteract": {
   "version": "0.2.0"
  }
 },
 "nbformat": 4,
 "nbformat_minor": 2
}